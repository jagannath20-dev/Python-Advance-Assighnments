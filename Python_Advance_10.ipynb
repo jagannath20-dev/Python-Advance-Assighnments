{
  "nbformat": 4,
  "nbformat_minor": 0,
  "metadata": {
    "colab": {
      "provenance": []
    },
    "kernelspec": {
      "name": "python3",
      "display_name": "Python 3"
    },
    "language_info": {
      "name": "python"
    }
  },
  "cells": [
    {
      "cell_type": "markdown",
      "source": [
        "Q1. What is the difference between getattr and getattribute?"
      ],
      "metadata": {
        "id": "NI-W_HRqKFQM"
      }
    },
    {
      "cell_type": "markdown",
      "source": [
        "Normally, if we want to access the attribute of a class, we access it with instance of the class like instance.attribute_name. These attributes are already present in the class. Where as, to access the attribute of class which are not defined in the class, we use getattr() method.\n",
        "\n",
        "But if the attribute does exist, getattr won’t be invoked"
      ],
      "metadata": {
        "id": "kQZ8UwXXKQGL"
      }
    },
    {
      "cell_type": "code",
      "execution_count": 1,
      "metadata": {
        "colab": {
          "base_uri": "https://localhost:8080/"
        },
        "id": "whtEpSwbJ9Bv",
        "outputId": "cb6b5098-edc5-4bf6-b23a-9664ba963112"
      },
      "outputs": [
        {
          "output_type": "stream",
          "name": "stdout",
          "text": [
            "Banglore\n",
            "abcd\n"
          ]
        }
      ],
      "source": [
        "class Sample:\n",
        "    def __init__(self,address):\n",
        "        self.address = address\n",
        "    \n",
        "    def __getattr__(self,name):\n",
        "        return name.lower()\n",
        "    \n",
        "s =Sample('Banglore')\n",
        "print(s.address) \n",
        "print(s.ABCD) "
      ]
    },
    {
      "cell_type": "markdown",
      "source": [
        "getattribute will look for every attribute, doesn’t matter if the attribute exists or not."
      ],
      "metadata": {
        "id": "ZrsIdXCyLVAJ"
      }
    },
    {
      "cell_type": "code",
      "source": [
        "class Dummy():\n",
        "\n",
        "    def __getattribute__(self, attr):\n",
        "        return 'New Value'\n",
        "\n",
        "d = Dummy()\n",
        "d.value = \"Old value\"\n",
        "print(d.value)  # \"YOU SEE ME?\""
      ],
      "metadata": {
        "colab": {
          "base_uri": "https://localhost:8080/"
        },
        "id": "sGuvFyzQLe6T",
        "outputId": "3091f784-999f-4e45-daea-7c6c7a19cb77"
      },
      "execution_count": 2,
      "outputs": [
        {
          "output_type": "stream",
          "name": "stdout",
          "text": [
            "New Value\n"
          ]
        }
      ]
    },
    {
      "cell_type": "markdown",
      "source": [
        "Q2. What is the difference between properties and descriptors?"
      ],
      "metadata": {
        "id": "r7yY5v2hLZ2q"
      }
    },
    {
      "cell_type": "markdown",
      "source": [
        "In Properties, We can bind getter, setter functions with an attribute name, using the built-in property function. In descriptor, We can bind getter, setter (and deleter) functions into a separate class. We then assign an object of this class to the attribute name."
      ],
      "metadata": {
        "id": "HHHk50rdLibC"
      }
    },
    {
      "cell_type": "markdown",
      "source": [
        "Q3. What are the key differences in functionality between __getattr__ and __getattribute__, as well as\n",
        "properties and descriptors?"
      ],
      "metadata": {
        "id": "Y7o2WJamNMH_"
      }
    },
    {
      "cell_type": "markdown",
      "source": [
        "To access the attribute of class which are not defined in the class, we use getattr() method. But if the attribute does exist, getattr won’t be invoked. getattribute will look for every attribute, doesn’t matter if the attribute exists or not.\n",
        "In Properties, We can bind getter, setter functions with an attribute name, using the built-in property function. In descriptor, We can bind getter, setter (and deleter) functions into a separate class. We then assign an object of this class to the attribute name."
      ],
      "metadata": {
        "id": "aQS1nw76NfRm"
      }
    },
    {
      "cell_type": "code",
      "source": [],
      "metadata": {
        "id": "2h70d2NBKdin"
      },
      "execution_count": null,
      "outputs": []
    }
  ]
}