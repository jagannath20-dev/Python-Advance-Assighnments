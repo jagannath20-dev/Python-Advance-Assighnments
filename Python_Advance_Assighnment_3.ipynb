{
 "cells": [
  {
   "cell_type": "markdown",
   "id": "a2d65d61",
   "metadata": {},
   "source": [
    "1. What is the concept of an abstract superclass?"
   ]
  },
  {
   "cell_type": "markdown",
   "id": "27739a6d",
   "metadata": {},
   "source": [
    "Answer  :\n",
    "    \n",
    "        A Class is called an Abstract class if it contains one or more abstract methods.An abstract method is\n",
    "        a method that is declared but contains no implementation. Abstract class may not be instantiated, and \n",
    "        its abstract methods must be implemented by it's subclasses"
   ]
  },
  {
   "cell_type": "code",
   "execution_count": 1,
   "id": "5a27ba78",
   "metadata": {},
   "outputs": [
    {
     "name": "stdout",
     "output_type": "stream",
     "text": [
      "I have 3 sides\n",
      "I have 4 sides\n",
      "I have 5 sides\n",
      "I have 6 sides\n"
     ]
    }
   ],
   "source": [
    "from abc import ABC, abstractmethod \n",
    "class Polygon(ABC):\n",
    "    @abstractmethod\n",
    "    def noofsides(self):\n",
    "        pass\n",
    "class Triangle(Polygon):\n",
    "    def noofsides(self):\n",
    "        print(\"I have 3 sides\")\n",
    "class Pentagon(Polygon):\n",
    "    def noofsides(self):\n",
    "        print(\"I have 5 sides\")\n",
    "class Hexagon(Polygon):\n",
    "    def noofsides(self):\n",
    "        print(\"I have 6 sides\") \n",
    "class Quadrilateral(Polygon):\n",
    "    def noofsides(self):\n",
    "        print(\"I have 4 sides\") \n",
    "# Driver code\n",
    "R = Triangle()\n",
    "R.noofsides()\n",
    " \n",
    "K = Quadrilateral()\n",
    "K.noofsides()\n",
    " \n",
    "R = Pentagon()\n",
    "R.noofsides()\n",
    " \n",
    "K = Hexagon()\n",
    "K.noofsides()"
   ]
  },
  {
   "cell_type": "markdown",
   "id": "9bdd49ea",
   "metadata": {},
   "source": [
    "2. What happens when a class statement's top level contains a basic assignment statement?"
   ]
  },
  {
   "cell_type": "markdown",
   "id": "d6b0d1c2",
   "metadata": {},
   "source": [
    "Answer  :\n",
    "\n",
    "        When a Class statement's top level contains a basic assignment statement, its usually treated as a \n",
    "        class attribute or class level variable.\n",
    "\n",
    "        where as assignment statements inside methods are treated as instance attributes or local attributes.\n",
    "\n",
    "        When an instance of a class is created a single copy of class attributes is maintained and shared to \n",
    "        all instances of class. where as each instance object maintains its own copy of instance variables."
   ]
  },
  {
   "cell_type": "markdown",
   "id": "c991f47d",
   "metadata": {},
   "source": [
    "3. Why does a class need to manually call a superclass's __init__ method?"
   ]
  },
  {
   "cell_type": "markdown",
   "id": "8f800f32",
   "metadata": {},
   "source": [
    "Answer  :\n",
    "\n",
    "         The main reason for always calling base class _init__ is that base class may typically create member \n",
    "         variable and initialize them to defaults. So if you don't call base class init, none of that code \n",
    "         would be executed and you would end up with base class that has no member variables."
   ]
  },
  {
   "cell_type": "markdown",
   "id": "6f7d9c4e",
   "metadata": {},
   "source": [
    "4. How can you augment, instead of completely replacing, an inherited method?"
   ]
  },
  {
   "cell_type": "markdown",
   "id": "df0f6605",
   "metadata": {},
   "source": [
    "Answer  :\n",
    "    \n",
    "        super() method can be used to augment, instead of completely replacing, an inherited method."
   ]
  },
  {
   "cell_type": "code",
   "execution_count": 2,
   "id": "a376ec33",
   "metadata": {},
   "outputs": [
    {
     "name": "stdout",
     "output_type": "stream",
     "text": [
      "{'name': 'Vivek', 'gender': 'Male', 'salary': 10000}\n"
     ]
    }
   ],
   "source": [
    "class Person:\n",
    "    def __init__(self,name,gender):\n",
    "        self.name = name\n",
    "        self.gender = gender\n",
    "class Employee(Person):\n",
    "    def __init__(self,name,gender,salary):\n",
    "        super().__init__(name,gender) \n",
    "        self.salary = salary\n",
    "emp_1 = Employee('Vivek','Male',10000)\n",
    "print(emp_1.__dict__)  "
   ]
  },
  {
   "cell_type": "markdown",
   "id": "d1256964",
   "metadata": {},
   "source": [
    "5. How is the local scope of a class different from that of a function?"
   ]
  },
  {
   "cell_type": "markdown",
   "id": "0a96b7a7",
   "metadata": {},
   "source": [
    "Answer  :\n",
    "    \n",
    "       A Variable which is defined inside a function is local to that function. it is accesible from the point \n",
    "       at which it is defined until the end of the function, and exists for as long as the function is existing.\n",
    "       Similary a variable inside of a class also has a local variable scope. Variables which are defined in \n",
    "       the class body (but outside all methods) are called as class level variables or class attributes. they \n",
    "       can be referenced by there bare names within the same scope, but they can also be accessed from outside \n",
    "       this scope if we use the attribute access operator (.). on a class or an instance of the class."
   ]
  },
  {
   "cell_type": "code",
   "execution_count": null,
   "id": "a8fd03ff",
   "metadata": {},
   "outputs": [],
   "source": []
  }
 ],
 "metadata": {
  "kernelspec": {
   "display_name": "Python 3 (ipykernel)",
   "language": "python",
   "name": "python3"
  },
  "language_info": {
   "codemirror_mode": {
    "name": "ipython",
    "version": 3
   },
   "file_extension": ".py",
   "mimetype": "text/x-python",
   "name": "python",
   "nbconvert_exporter": "python",
   "pygments_lexer": "ipython3",
   "version": "3.9.7"
  }
 },
 "nbformat": 4,
 "nbformat_minor": 5
}
