{
  "nbformat": 4,
  "nbformat_minor": 0,
  "metadata": {
    "colab": {
      "provenance": []
    },
    "kernelspec": {
      "name": "python3",
      "display_name": "Python 3"
    },
    "language_info": {
      "name": "python"
    }
  },
  "cells": [
    {
      "cell_type": "markdown",
      "source": [
        "Describe three applications for exception processing."
      ],
      "metadata": {
        "id": "0rxiC6RN9-6N"
      }
    },
    {
      "cell_type": "markdown",
      "source": [
        "SyntaxError: This exception is raised when the interpreter encounters a syntax error in the code, such as a misspelled keyword, a missing colon, or an unbalanced parenthesis.\n",
        "\n",
        "TypeError: This exception is raised when an operation or function is applied to an object of the wrong type, such as adding a string to an integer.\n",
        "NameError: This exception is raised when a variable or function name is not found in the current scope.\n",
        "\n",
        "IndexError: This exception is raised when an index is out of range for a list, tuple, or other sequence types.\n",
        "\n",
        "KeyError: This exception is raised when a key is not found in a dictionary.\n",
        "ValueError: This exception is raised when a function or method is called with an invalid argument or input, such as trying to convert a string to an integer when the string does not represent a valid integer.\n",
        "\n",
        "AttributeError: This exception is raised when an attribute or method is not found on an object, such as trying to access a non-existent attribute of a class instance.\n",
        "\n",
        "IOError: This exception is raised when an I/O operation, such as reading or writing a file, fails due to an input/output error.\n",
        "\n",
        "ZeroDivisionError: This exception is raised when an attempt is made to divide a number by zero.\n",
        "\n",
        "ImportError: This exception is raised when an import statement fails to find or load a module."
      ],
      "metadata": {
        "id": "LgfdpeMw-Q9x"
      }
    },
    {
      "cell_type": "markdown",
      "source": [
        "Q2. What happens if you don&#39;t do something extra to treat an exception?"
      ],
      "metadata": {
        "id": "bHej3FqcEO7q"
      }
    },
    {
      "cell_type": "markdown",
      "source": [
        "Whenever an exception occurs, the program stops the execution, and thus the further code is not executed. Therefore, an exception is the run-time errors that are unable to handle to Python script. An exception is a Python object that represents an error\n",
        "\n"
      ],
      "metadata": {
        "id": "4ICq8eICEh-2"
      }
    },
    {
      "cell_type": "markdown",
      "source": [
        "What are your options for recovering from an exception in your script?"
      ],
      "metadata": {
        "id": "XrRjHX0IEjhE"
      }
    },
    {
      "cell_type": "code",
      "execution_count": 4,
      "metadata": {
        "id": "BLrUx4nX9mU_",
        "colab": {
          "base_uri": "https://localhost:8080/"
        },
        "outputId": "6c27c8a2-99c8-4a8b-d19b-e59a46ac2d62"
      },
      "outputs": [
        {
          "output_type": "stream",
          "name": "stdout",
          "text": [
            "Enter an integer value::Jag\n",
            "invalid literal for int() with base 10: 'Jag'\n",
            "Please enter an integer value\n",
            "Yeah i always executes!\n",
            "Enter an integer value::\n",
            "invalid literal for int() with base 10: ''\n",
            "Please enter an integer value\n",
            "Yeah i always executes!\n",
            "Enter an integer value::9\n",
            "Yes you have entered an ineger 9\n",
            "Yeah i always executes!\n"
          ]
        }
      ],
      "source": [
        "def askint():\n",
        "    while True:\n",
        "        try:\n",
        "            a = int(input('Enter an integer value::'))\n",
        "        except Exception as e:\n",
        "            print(e)\n",
        "            print('Please enter an integer value')\n",
        "            continue\n",
        "        else:\n",
        "            print(f'Yes you have entered an ineger {a}')\n",
        "            break\n",
        "        finally:\n",
        "            print('Yeah i always executes!')\n",
        "        \n",
        "askint()  "
      ]
    },
    {
      "cell_type": "markdown",
      "source": [
        "Q4. Describe two methods for triggering exceptions in your script."
      ],
      "metadata": {
        "id": "Gf_mVdDgFWSx"
      }
    },
    {
      "cell_type": "markdown",
      "source": [
        "Try statement – This method throws the exceptions when the code within try is executed.\n",
        "\n",
        "Raise – Triggers an exception manually using custom exceptions.\n",
        "\n",
        "Examples are already explained above"
      ],
      "metadata": {
        "id": "kYaFm7S7FeU4"
      }
    },
    {
      "cell_type": "markdown",
      "source": [
        "Q5. Identify two methods for specifying actions to be executed at termination time, regardless of whether or not an exception exists.\n"
      ],
      "metadata": {
        "id": "VSVZqjmeFhi4"
      }
    },
    {
      "cell_type": "markdown",
      "source": [
        "In else block, code is written to handle if no exception is raised by code in try block.\n",
        "\n",
        "In finally block, code executes regardless of whether or not an exception exists."
      ],
      "metadata": {
        "id": "wZeYD_l0Fktg"
      }
    },
    {
      "cell_type": "code",
      "source": [],
      "metadata": {
        "id": "H_JELwYbE1CS"
      },
      "execution_count": 1,
      "outputs": []
    }
  ]
}