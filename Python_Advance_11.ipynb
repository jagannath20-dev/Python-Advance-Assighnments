{
  "nbformat": 4,
  "nbformat_minor": 0,
  "metadata": {
    "colab": {
      "provenance": []
    },
    "kernelspec": {
      "name": "python3",
      "display_name": "Python 3"
    },
    "language_info": {
      "name": "python"
    }
  },
  "cells": [
    {
      "cell_type": "markdown",
      "source": [
        "Q1. What is the concept of a metaclass?\n",
        "\n",
        "\n",
        "In python everything is associated with type. In other programming languages, int, str, array are data type. But, in python, they are objects of the class int, str, list, dict. We can create user defined type by creating a class and then object of that class.\n",
        "\n",
        "A Class is also an object, and just like any other object it’s a instance of something called Metaclass. A special class type creates these Class object. The type class is default metaclass which is responsible for making classes."
      ],
      "metadata": {
        "id": "StKtnxI-Y_Pw"
      }
    },
    {
      "cell_type": "markdown",
      "source": [
        "Q2. What is the best way to declare a class's metaclass?\n",
        "When defining a class and no metaclass is defined the default type metaclass will be used. If a metaclass is given and it is not an instance of type(), then it is used directly as the metaclass."
      ],
      "metadata": {
        "id": "VDdcGoN-ZON3"
      }
    },
    {
      "cell_type": "code",
      "execution_count": 1,
      "metadata": {
        "colab": {
          "base_uri": "https://localhost:8080/"
        },
        "id": "JDxHVRHtY9Bw",
        "outputId": "f5d89842-355d-4d46-c726-2a311e8732d3"
      },
      "outputs": [
        {
          "output_type": "stream",
          "name": "stdout",
          "text": [
            "<class 'type'>\n",
            "<class '__main__.A'>\n",
            "<class '__main__.A'>\n"
          ]
        }
      ],
      "source": [
        "class A(type):\n",
        "    pass\n",
        "\n",
        "class B(metaclass=A):  # for class B, class A is a metaclass\n",
        "    pass\n",
        "class C(B):\n",
        "    pass\n",
        "\n",
        "print(type(A))\n",
        "print(type(B))\n",
        "print(type(C))"
      ]
    },
    {
      "cell_type": "code",
      "source": [],
      "metadata": {
        "id": "4ET6iZPYaRqe"
      },
      "execution_count": null,
      "outputs": []
    },
    {
      "cell_type": "markdown",
      "source": [
        "Q3. How do class decorators overlap with metaclasses for handling classes?\n"
      ],
      "metadata": {
        "id": "Gf_KHz29aO93"
      }
    },
    {
      "cell_type": "markdown",
      "source": [
        "Both decorators and metaclass have some common things. When we want to aplly some common functionality to attributes of the class instances, both can be used. There are some problems which can be solved by decorators as well as by metaclasses. But there are a few problems that can only be solved by metaclasses. Use of metaclass affects its children while the decorator affects only the current class."
      ],
      "metadata": {
        "id": "YXhobxF_aSux"
      }
    },
    {
      "cell_type": "markdown",
      "source": [
        "Q4. How do class decorators overlap with metaclasses for handling instances?"
      ],
      "metadata": {
        "id": "Ajh3btVmafKT"
      }
    },
    {
      "cell_type": "markdown",
      "source": [
        "Both decorators and metaclass have some common things. When we want to aplly some common functionality to attributes of the class instances, both can be used. There are some problems which can be solved by decorators as well as by metaclasses. But there are a few problems that can only be solved by metaclasses. Use of metaclass affects its children while the decorator affects only the current class."
      ],
      "metadata": {
        "id": "0QS5s7t4aoct"
      }
    },
    {
      "cell_type": "code",
      "source": [],
      "metadata": {
        "id": "689wDKgSan3N"
      },
      "execution_count": null,
      "outputs": []
    },
    {
      "cell_type": "code",
      "source": [],
      "metadata": {
        "id": "MaEHzJQ_ae2o"
      },
      "execution_count": null,
      "outputs": []
    },
    {
      "cell_type": "code",
      "source": [],
      "metadata": {
        "id": "jTs-8oh9ZYyE"
      },
      "execution_count": null,
      "outputs": []
    }
  ]
}