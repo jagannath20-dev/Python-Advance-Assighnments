{
  "nbformat": 4,
  "nbformat_minor": 0,
  "metadata": {
    "colab": {
      "provenance": []
    },
    "kernelspec": {
      "name": "python3",
      "display_name": "Python 3"
    },
    "language_info": {
      "name": "python"
    }
  },
  "cells": [
    {
      "cell_type": "markdown",
      "source": [
        "Q1. In Python 3.X, what are the names and functions of string object types?"
      ],
      "metadata": {
        "id": "wLHGUiRyPaVo"
      }
    },
    {
      "cell_type": "markdown",
      "source": [
        "In Python 3.X and later, String objects has bulit in class named as \"str\" and it is used to store characters in memory in encoded format."
      ],
      "metadata": {
        "id": "BQXn5kjhQLC8"
      }
    },
    {
      "cell_type": "markdown",
      "source": [
        "Q2. How do the string forms in Python 3.X vary in terms of operations?"
      ],
      "metadata": {
        "id": "Afl2Y1GjQWib"
      }
    },
    {
      "cell_type": "markdown",
      "source": [
        "Python supports ASCII as a subset of Unicode. The default encoding of characters in Python is UTF-8 (Unicode Transformation Format - 8-bit).ASCII is really a 7-bit character set; it is mapped to 8-bit bytes by setting the high bit to zero. Thus, ASCII characters are unchanged in UTF-8. A non-zero high bit indicates that a character composed of multiple bytes."
      ],
      "metadata": {
        "id": "iVJuHAz_Qcdl"
      }
    },
    {
      "cell_type": "markdown",
      "source": [
        "Q3. In 3.X, how do you put non-ASCII Unicode characters in a string?"
      ],
      "metadata": {
        "id": "rWrHoMB5Qj26"
      }
    },
    {
      "cell_type": "markdown",
      "source": [
        "As we know, there are only 127 ASCII characters in ascii table. It stores symbols, letters, whitespace characters, non printable characters, which are very less. So Python 3 has adopted unicode encoding of strings. for non ASCII u can get any value more than 127."
      ],
      "metadata": {
        "id": "SxT04jYoQpCV"
      }
    },
    {
      "cell_type": "code",
      "execution_count": 2,
      "metadata": {
        "colab": {
          "base_uri": "https://localhost:8080/"
        },
        "id": "LlpVguyPPYLV",
        "outputId": "e8ab6c81-6e59-4415-bc15-d7b1fe4bef8f"
      },
      "outputs": [
        {
          "output_type": "stream",
          "name": "stdout",
          "text": [
            "Jagannath©\n"
          ]
        }
      ],
      "source": [
        "D = 'Jagannath'\n",
        "\n",
        "D += chr(128)+chr(169)\n",
        "print(D)\n"
      ]
    },
    {
      "cell_type": "markdown",
      "source": [
        "Q4. In Python 3.X, what are the key differences between text-mode and binary-mode files?"
      ],
      "metadata": {
        "id": "dpoytnHqREWJ"
      }
    },
    {
      "cell_type": "markdown",
      "source": [
        "Files opened in binary mode (appending 'b' to the mode argument) return contents as bytes objects without any decoding. In text mode (the default, or when 't' is appended to the mode argument), the contents of the file are returned as strings, the bytes having been first decoded using a platform-dependent encoding or using the specified encoding if given."
      ],
      "metadata": {
        "id": "7-UASc5nRNze"
      }
    },
    {
      "cell_type": "markdown",
      "source": [
        "Q5. How can you interpret a Unicode text file containing text encoded in a different encoding than your platform's default?"
      ],
      "metadata": {
        "id": "IqTaBK6aRRFA"
      }
    },
    {
      "cell_type": "markdown",
      "source": [
        "While reading file, we can specify the encoding such as(utf16, utf32), so the file will be decoded according to that encoding and results are returned to the user."
      ],
      "metadata": {
        "id": "yxf942VgRWhN"
      }
    },
    {
      "cell_type": "code",
      "source": [
        "text = \"this is sample text file for understanding encoding\"\n",
        "f = open('sample.txt','w', encoding='utf16')\n",
        "f.write(text)\n",
        "f.close()\n",
        "\n",
        "f = open('sample.txt','r', encoding='utf16')\n",
        "print(f.read())"
      ],
      "metadata": {
        "colab": {
          "base_uri": "https://localhost:8080/"
        },
        "id": "y5XhA_ZiQxPs",
        "outputId": "f159c5a3-318e-4286-8301-1c9fc03d51bc"
      },
      "execution_count": 3,
      "outputs": [
        {
          "output_type": "stream",
          "name": "stdout",
          "text": [
            "this is sample text file for understanding encoding\n"
          ]
        }
      ]
    },
    {
      "cell_type": "markdown",
      "source": [
        "Q7. What qualifies ASCII text as a form of Unicode text?"
      ],
      "metadata": {
        "id": "kKdyUfUWRm4F"
      }
    },
    {
      "cell_type": "markdown",
      "source": [
        "The first 128 Unicode code points represent the equivalent ASCII characters. They have the same meaning in both ASCII and unicode. Since UTF-8 encodes each of these characters with a single byte, any ASCII text is also a UTF-8 text. Unicode is a superset of ASCII."
      ],
      "metadata": {
        "id": "v8PktsZeRstO"
      }
    },
    {
      "cell_type": "markdown",
      "source": [
        "Q8. How much of an effect does the change in string types in Python 3.X have on your code?"
      ],
      "metadata": {
        "id": "1nETrYAUR1Dx"
      }
    },
    {
      "cell_type": "markdown",
      "source": [
        "In Python 3.X and later, there is only one string type that is unicode. So no effect on the code."
      ],
      "metadata": {
        "id": "VaMNynqRR6Lm"
      }
    },
    {
      "cell_type": "code",
      "source": [],
      "metadata": {
        "id": "uHIcoyWRRcWB"
      },
      "execution_count": null,
      "outputs": []
    }
  ]
}