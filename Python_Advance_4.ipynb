{
 "cells": [
  {
   "cell_type": "markdown",
   "id": "e3d537f7",
   "metadata": {},
   "source": [
    "Q1. Which two operator overloading methods can you use in your classes to support iteration?"
   ]
  },
  {
   "cell_type": "markdown",
   "id": "92fe3e01",
   "metadata": {},
   "source": [
    "Answer  :\n",
    "\n",
    "        __iter__ and __next__ are the operator overriding method in python that support iteration and are \n",
    "        __iter__ returns the iterator of the object and is at the start of the loop in our repective class.\n",
    "        __next__ is called at each loop increment, it retuns the incremented value.\n",
    "        Also stopiteration is raised when there is no value to return."
   ]
  },
  {
   "cell_type": "code",
   "execution_count": 6,
   "id": "98e354ef",
   "metadata": {},
   "outputs": [
    {
     "name": "stdout",
     "output_type": "stream",
     "text": [
      "10\n",
      "11\n",
      "12\n",
      "13\n",
      "14\n",
      "15\n"
     ]
    }
   ],
   "source": [
    "class Test:\n",
    "    def __init__(self,limit):\n",
    "        self.limit = limit\n",
    "    def __iter__(self):\n",
    "        self.x = 10\n",
    "        return self\n",
    "    def __next__(self):\n",
    "        x = self.x\n",
    "        if x > self.limit:\n",
    "            raise StopIteration\n",
    "        self.x = x + 1\n",
    "        return x\n",
    "for i in Test(15):\n",
    "    print(i)\n",
    "    \n",
    "for i in Test(5):\n",
    "    print(i)"
   ]
  },
  {
   "cell_type": "markdown",
   "id": "29f48b34",
   "metadata": {},
   "source": [
    "Q2. In what contexts do the two operator overloading methods manage printing?"
   ]
  },
  {
   "cell_type": "markdown",
   "id": "370ad4b0",
   "metadata": {},
   "source": [
    "Answer  :\n",
    "    \n",
    "        __str__ and __repr__ are two operator overriding methods that manage printing.\n",
    "        The differences between both of these operators are is the goal of __str__ is readable and __repr__\n",
    "        is unambiguous.\n",
    "        Whenever we are printing any object reference internally __str__ method will be called by default.\n",
    "        The main purpose of __str__ is for readability. it prints the informal string representation of an \n",
    "        object, one that is useful for printing the object. it may not be possible to convert result string \n",
    "        to original object.\n",
    "        __repr__ is used to print official string representation of an object, so it includes all information \n",
    "        and development."
   ]
  },
  {
   "cell_type": "code",
   "execution_count": 7,
   "id": "aaca6642",
   "metadata": {},
   "outputs": [
    {
     "name": "stdout",
     "output_type": "stream",
     "text": [
      "<__main__.Student object at 0x7fce3b91b0d0>\n",
      "Student Name: Mano and Roll No: 1\n",
      "2022-06-02 09:41:00.888060\n",
      "Unable to convert back to original object\n",
      "datetime.datetime(2022, 6, 2, 9, 41, 0, 888060)\n",
      "2022-06-02 09:41:00.888060\n"
     ]
    }
   ],
   "source": [
    "class Student:\n",
    "    def __init__(self,name,roll_no):\n",
    "        self.name = name\n",
    "        self.roll_no = roll_no\n",
    "        \n",
    "s1 = Student(\"Mano\",1)\n",
    "print(str(s1))\n",
    "\n",
    "class Student:\n",
    "    def __init__(self,name,roll_no):\n",
    "        self.name = name\n",
    "        self.roll_no = roll_no\n",
    "    def __str__(self):\n",
    "        return f'Student Name: {self.name} and Roll No: {self.roll_no}'\n",
    "    \n",
    "s1 = Student(\"Mano\",1)\n",
    "print(str(s1))\n",
    "\n",
    "import datetime\n",
    "today = datetime.datetime.now()\n",
    "\n",
    "s = str(today) # converting datetime object to presentable str\n",
    "print(s)\n",
    "try: d = eval(s) # converting str back to datetime object\n",
    "except: print(\"Unable to convert back to original object\")\n",
    "    \n",
    "u = repr(today) # converting datetime object to str\n",
    "print(u)\n",
    "e = eval(u) # converting str back to datetime object\n",
    "print(e)"
   ]
  },
  {
   "cell_type": "markdown",
   "id": "2b9d3492",
   "metadata": {},
   "source": [
    "Q3. In a class, how do you intercept slice operations?"
   ]
  },
  {
   "cell_type": "markdown",
   "id": "0edcb67e",
   "metadata": {},
   "source": [
    "Answer  :\n",
    "    \n",
    "         In a class use of slice() in __getitem__ method is used for intercept slice operation. This slice \n",
    "         method is provided with start integer number, stop integer number and step integer number.\n",
    "\n",
    "Example: __getitem__(slice(start,stop,step))"
   ]
  },
  {
   "cell_type": "markdown",
   "id": "933aeb80",
   "metadata": {},
   "source": [
    "Q4. In a class, how do you capture in-place addition?"
   ]
  },
  {
   "cell_type": "code",
   "execution_count": 15,
   "id": "5bc72b77",
   "metadata": {},
   "outputs": [
    {
     "name": "stdout",
     "output_type": "stream",
     "text": [
      "Train has 7 Passenger compartments\n"
     ]
    }
   ],
   "source": [
    "class Train:\n",
    "    def __init__(self,Passenger_com):\n",
    "        self.Passenger_com = Passenger_com\n",
    "    def __iadd__(self,other):\n",
    "        self.Passenger_com += other.Passenger_com\n",
    "        return self.Passenger_com\n",
    "        \n",
    "b1 = Train(5)\n",
    "b2 = Train(2)\n",
    "b1+=b2\n",
    "print(\"Train has \" + str(b1) + \" Passenger compartments\")"
   ]
  },
  {
   "cell_type": "markdown",
   "id": "68d9417b",
   "metadata": {},
   "source": [
    "Q5. When is it appropriate to use operator overloading?"
   ]
  },
  {
   "cell_type": "markdown",
   "id": "5e33de7f",
   "metadata": {},
   "source": [
    "Answer  :\n",
    "    \n",
    "       Operator overloading is used when we want to use an operator other than its normal operation to have \n",
    "       different meaning according to the context required in user defined function."
   ]
  },
  {
   "cell_type": "code",
   "execution_count": 16,
   "id": "df15d1a5",
   "metadata": {},
   "outputs": [
    {
     "name": "stdout",
     "output_type": "stream",
     "text": [
      "Train has 7 Passenger compartments\n"
     ]
    }
   ],
   "source": [
    "class Train:\n",
    "    def __init__(self,Passenger_com):\n",
    "        self.Passenger_com = Passenger_com\n",
    "    def __iadd__(self,other):\n",
    "        self.Passenger_com += other.Passenger_com\n",
    "        return self.Passenger_com\n",
    "        \n",
    "b1 = Train(5)\n",
    "b2 = Train(2)\n",
    "b1+=b2\n",
    "print(\"Train has \" + str(b1) + \" Passenger compartments\")"
   ]
  },
  {
   "cell_type": "code",
   "execution_count": null,
   "id": "2719fa0d",
   "metadata": {},
   "outputs": [],
   "source": []
  }
 ],
 "metadata": {
  "kernelspec": {
   "display_name": "Python 3 (ipykernel)",
   "language": "python",
   "name": "python3"
  },
  "language_info": {
   "codemirror_mode": {
    "name": "ipython",
    "version": 3
   },
   "file_extension": ".py",
   "mimetype": "text/x-python",
   "name": "python",
   "nbconvert_exporter": "python",
   "pygments_lexer": "ipython3",
   "version": "3.9.7"
  }
 },
 "nbformat": 4,
 "nbformat_minor": 5
}
