{
 "cells": [
  {
   "cell_type": "markdown",
   "id": "cdfe7984",
   "metadata": {},
   "source": [
    "Q1. What is the relationship between classes and modules?"
   ]
  },
  {
   "cell_type": "markdown",
   "id": "0ab15a8f",
   "metadata": {},
   "source": [
    "Answer  :\n",
    "    \n",
    "Class   :\n",
    "\n",
    "       Classes are blueprint that allow you to create instances with attributes and bound functionality.\n",
    "       Class support inheritance,metaclass and descriptors.\n",
    "\n",
    "Modules  : \n",
    "\n",
    "         Modules cannot do any of this,modules are essentially singleton of an internal module class, and all\n",
    "         their globals are attributes on the module instance.\n",
    "         we can manipulate those attributes as needed,but take into account that these still form the\n",
    "         global namespace for all code defined in that module."
   ]
  },
  {
   "cell_type": "markdown",
   "id": "54fb92ec",
   "metadata": {},
   "source": [
    "Q2. How do you make instances and classes?"
   ]
  },
  {
   "cell_type": "markdown",
   "id": "f76c3a85",
   "metadata": {},
   "source": [
    "Answer  :\n",
    "    \n",
    "        To create an instance of a class, we call the class using class name and pass in whatever arguments \n",
    "        its __init__ method accepts. \n",
    "\n",
    "Example 1  :\n",
    "\n",
    "            emp1 = Employee(\"Jagannath\",200)\n",
    " \n",
    "        To create a class,use the class keyword .class keyword is followed by classname and semicolon."
   ]
  },
  {
   "cell_type": "markdown",
   "id": "f0ab9b78",
   "metadata": {},
   "source": [
    "Q3. Where and how should be class attributes created?"
   ]
  },
  {
   "cell_type": "markdown",
   "id": "297c68ae",
   "metadata": {},
   "source": [
    "Answer  :\n",
    "\n",
    "        Class level attributes belongs to class itself.Class level attributes are the variables defined \n",
    "        directly in the class that are shared by all objects of the class.\n",
    "        Hence these attributes are usually created/defined in the top of the class defination outside of all \n",
    "        classes."
   ]
  },
  {
   "cell_type": "markdown",
   "id": "04c20809",
   "metadata": {},
   "source": [
    "class Mobile:\n",
    "\n",
    "    Mobile_slot = 2\n",
    "    def __init__(self,slot1,slot2):\n",
    "        self.slot1 = slot1\n",
    "        self.slot2 = slot2"
   ]
  },
  {
   "cell_type": "markdown",
   "id": "d123f066",
   "metadata": {},
   "source": [
    "Q4. Where and how are instance attributes created?"
   ]
  },
  {
   "cell_type": "markdown",
   "id": "3567a493",
   "metadata": {},
   "source": [
    "Answer  :\n",
    "    \n",
    "     Instances attributes are passed to the class when an object of the class is created. Unlike class \n",
    "     attributes,instance attributes are not shared by all objects of the classs. instead each object maintains \n",
    "     its own copy of instance attributes at object level. whereas incase of class attributes all instances \n",
    "     of class refer to a single copy. Usually instance attributes are defined within the __init__ method of class.\n",
    "\n",
    "class Mobile:\n",
    "\n",
    "    def __init__(self,slot1,slot2):\n",
    "        self.slot1 = slot1\n",
    "        self.slot2 = slot2\n",
    "        \n",
    "Mobile('slot1','4Gslot')\n",
    "\n",
    "Mobile('slot2','3G/2Gslot')"
   ]
  },
  {
   "cell_type": "markdown",
   "id": "92453741",
   "metadata": {},
   "source": [
    "Q5. What does the term \"self\" in a Python class mean?"
   ]
  },
  {
   "cell_type": "markdown",
   "id": "2a2e6c39",
   "metadata": {},
   "source": [
    "Answer  :\n",
    "    \n",
    "    self represents the instance of the class (it represents the object itself). By using the “self” keyword \n",
    "    we can access the attributes and methods of the class with in the class in python. It binds the attributes \n",
    "    with the given arguments."
   ]
  },
  {
   "cell_type": "code",
   "execution_count": 16,
   "id": "28f8beb7",
   "metadata": {},
   "outputs": [
    {
     "name": "stdout",
     "output_type": "stream",
     "text": [
      "{'slot': '4Gslot', 'Charger_pin_type': 'nanotype'}\n",
      "{'slot': '3G/2Gslot', 'Charger_pin_type': 'nanotype'}\n",
      "{'slot': 'Charger_type', 'Charger_pin_type': 'Type-c'}\n"
     ]
    }
   ],
   "source": [
    "class Mobile:\n",
    "    def __init__(self,slot,Charger_pin_type):\n",
    "        self.slot = slot\n",
    "        self.slot = slot\n",
    "        self.Charger_pin_type = Charger_pin_type\n",
    "slot_1 = Mobile('4Gslot','nanotype')\n",
    "slot_2 = Mobile('3G/2Gslot','nanotype')\n",
    "Type   = Mobile('Charger_type','Type-c')\n",
    "print(slot_1.__dict__)\n",
    "print(slot_2.__dict__)\n",
    "print(Type.__dict__)"
   ]
  },
  {
   "cell_type": "markdown",
   "id": "d43c9656",
   "metadata": {},
   "source": [
    "Q6. How does a Python class handle operator overloading?"
   ]
  },
  {
   "cell_type": "markdown",
   "id": "9cbc151f",
   "metadata": {},
   "source": [
    "Answer  :\n",
    "    \n",
    "        Operator Overloading means giving extended meaning beyond their predefined operational meaning. \n",
    "        For example operator + is used to add two integers as well as join two strings and merge two lists. \n",
    "        It is achievable because ‘+’ operator is overloaded by int class and str class. You might have noticed \n",
    "        that the same built-in operator or function shows different behavior for objects of different classes, \n",
    "        this is called Operator Overloading. "
   ]
  },
  {
   "cell_type": "markdown",
   "id": "a982b80e",
   "metadata": {},
   "source": [
    "Q7. When do you consider allowing operator overloading of your classes?"
   ]
  },
  {
   "cell_type": "markdown",
   "id": "96565574",
   "metadata": {},
   "source": [
    "Answer. : \n",
    "\n",
    "       When we want to have different meaning for the same operator accroding to the context we use operator       \n",
    "       overloading."
   ]
  },
  {
   "cell_type": "markdown",
   "id": "0eefd638",
   "metadata": {},
   "source": [
    "Q8. What is the most popular form of operator overloading?"
   ]
  },
  {
   "cell_type": "markdown",
   "id": "0f224d6b",
   "metadata": {},
   "source": [
    "Answer  : \n",
    "    \n",
    "        The most popular form of operator overloading in python is by special methods called Magic methods \n",
    "        Which usually beign and end with double underscore __<method name>__."
   ]
  },
  {
   "cell_type": "markdown",
   "id": "bbf945a2",
   "metadata": {},
   "source": [
    "Q9. What are the two most important concepts to grasp in order to comprehend Python OOP code?"
   ]
  },
  {
   "cell_type": "markdown",
   "id": "a06ea13c",
   "metadata": {},
   "source": [
    "Answer  :\n",
    "    \n",
    "         Classes and objects are the two concepts to comprehend python OOP code as more formally objects are\n",
    "         entities that represent instances of general abstract concept called class\n",
    "\n",
    "    Along with classes and objects the important concepts to grasp are:\n",
    "\n",
    "     Inheritence\n",
    "     Abstraction\n",
    "     Polymorphism\n",
    "     Encapsulation"
   ]
  },
  {
   "cell_type": "code",
   "execution_count": null,
   "id": "542ea5f2",
   "metadata": {},
   "outputs": [],
   "source": []
  }
 ],
 "metadata": {
  "kernelspec": {
   "display_name": "Python 3 (ipykernel)",
   "language": "python",
   "name": "python3"
  },
  "language_info": {
   "codemirror_mode": {
    "name": "ipython",
    "version": 3
   },
   "file_extension": ".py",
   "mimetype": "text/x-python",
   "name": "python",
   "nbconvert_exporter": "python",
   "pygments_lexer": "ipython3",
   "version": "3.9.7"
  }
 },
 "nbformat": 4,
 "nbformat_minor": 5
}
