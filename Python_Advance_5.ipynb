{
 "cells": [
  {
   "cell_type": "markdown",
   "id": "3930c867",
   "metadata": {},
   "source": [
    "Q1. What is the meaning of multiple inheritance?"
   ]
  },
  {
   "cell_type": "markdown",
   "id": "a0436e2e",
   "metadata": {},
   "source": [
    "Answer  :\n",
    "\n",
    "Multiple Inheritance  :\n",
    " \n",
    "     When a class is derived from more than one base class it is called multiple Inheritance. The derived class \n",
    "     inherits all the features of the base case."
   ]
  },
  {
   "cell_type": "code",
   "execution_count": 2,
   "id": "241279ea",
   "metadata": {},
   "outputs": [],
   "source": [
    "class class1:\n",
    "    pass\n",
    "class class2:\n",
    "    pass\n",
    "class class3(class1,class2):\n",
    "    pass"
   ]
  },
  {
   "cell_type": "markdown",
   "id": "ea9a7b83",
   "metadata": {},
   "source": [
    "Q2. What is the concept of delegation?"
   ]
  },
  {
   "cell_type": "markdown",
   "id": "2d627bcb",
   "metadata": {},
   "source": [
    "Answer  :\n",
    "    \n",
    "    Delegation provides a proxy object for any class thay you want on top of the main class. its like a wrapper \n",
    "    to your class so that you can access limited resources of the main class.\n",
    "\n",
    "    It Wraps the object of main class into a smaller object with limited access\n",
    "\n",
    "    Simply Delegation means that you can include a instance of another class as an instance variable, and \n",
    "    forward messages to the instance."
   ]
  },
  {
   "cell_type": "code",
   "execution_count": 3,
   "id": "502afb7f",
   "metadata": {},
   "outputs": [
    {
     "name": "stdout",
     "output_type": "stream",
     "text": [
      "I have 4 legs\n"
     ]
    }
   ],
   "source": [
    "class Animal:\n",
    "  def __init__(self, name, num_of_legs):\n",
    "    self.name = name\n",
    "    self.num_of_legs = num_of_legs\n",
    "  \n",
    "  def get_number_of_legs(self):\n",
    "    print(f\"I have {self.num_of_legs} legs\")\n",
    "\n",
    "class Dog(Animal):\n",
    "  def __init__(self, name, num_of_legs):\n",
    "    super().__init__(name, num_of_legs)\n",
    "\n",
    "dog = Dog('Fido', 4)\n",
    "dog.get_number_of_legs()"
   ]
  },
  {
   "cell_type": "markdown",
   "id": "a7d113ad",
   "metadata": {},
   "source": [
    "Q3. What is the concept of composition?"
   ]
  },
  {
   "cell_type": "markdown",
   "id": "00781799",
   "metadata": {},
   "source": [
    "Answer  :\n",
    "\n",
    "    Composition is a concept that models a has a relationship. It enables creating complex types by combining \n",
    "    objects of other types. This means that a class Composite can contain an object of another class Component. \n",
    "    This relationship means that a Composite has a Component\n",
    "    \n",
    "    Composition is represented through a line with a diamond at the composite class pointing to the component\n",
    "    class. The composite side can express the cardinality of the relationship. The cardinality indicates the number \n",
    "    or valid range of Component instances the Composite class will contain."
   ]
  },
  {
   "cell_type": "code",
   "execution_count": 4,
   "id": "8dab6734",
   "metadata": {},
   "outputs": [
    {
     "name": "stdout",
     "output_type": "stream",
     "text": [
      "Total Salary : 9600\n"
     ]
    }
   ],
   "source": [
    "class Salary:\n",
    "    def __init__(self,pay):\n",
    "        self.pay = pay\n",
    "    def get_total(self):\n",
    "        return self.pay*12\n",
    "    \n",
    "class Employee:\n",
    "    def __init__(self,pay,bonus):\n",
    "        self.pay = pay\n",
    "        self.bonus = bonus\n",
    "        self.obj_salary = Salary(self.pay)\n",
    "    def annual_salary(self):\n",
    "        return f'Total Salary : {str(self.obj_salary.get_total())}'\n",
    "\n",
    "obj_emp = Employee(800,500)\n",
    "print(obj_emp.annual_salary())"
   ]
  },
  {
   "cell_type": "markdown",
   "id": "8681e33b",
   "metadata": {},
   "source": [
    "Q4. What are bound methods and how do we use them?"
   ]
  },
  {
   "cell_type": "markdown",
   "id": "4263f8ee",
   "metadata": {},
   "source": [
    "Answer  :\n",
    "\n",
    "   If a function is an attribute of class and it is accessed via the instances, they are called bound methods.\n",
    "   A bound method is one that has self as its first argument. Since these are dependent on the instance of classes, \n",
    "   these are also known as instance methods."
   ]
  },
  {
   "cell_type": "code",
   "execution_count": 5,
   "id": "95d809bc",
   "metadata": {},
   "outputs": [
    {
     "name": "stdout",
     "output_type": "stream",
     "text": [
      "Called method_one\n",
      "Called method_two\n",
      "Called method_two\n",
      "Called method_three\n"
     ]
    }
   ],
   "source": [
    "class Test:\n",
    "    def method_one(self): # bound method\n",
    "        print(\"Called method_one\")\n",
    "    @classmethod\n",
    "    def method_two(cls): # unbound method\n",
    "        print(\"Called method_two\")\n",
    "    @staticmethod\n",
    "    def method_three(): # static method\n",
    "        print(\"Called method_three\")\n",
    "\n",
    "test = Test()\n",
    "test.method_one() \n",
    "test.method_two() \n",
    "Test.method_two() \n",
    "Test.method_three()"
   ]
  },
  {
   "cell_type": "markdown",
   "id": "4b19fb61",
   "metadata": {},
   "source": [
    "Q5. What is the purpose of pseudoprivate attributes?"
   ]
  },
  {
   "cell_type": "markdown",
   "id": "d0bb5159",
   "metadata": {},
   "source": [
    "Pseudoprivate attributes are also useful in larger frameworks or tools, both to avoid introducing new method names that might accidentally hide definitions elsewhere in the class tree and to reduce the chance of internal methods being replaced by names defined lower in the tree. If a method is intended for use only within a class that may be mixed into other classes, the double underscore prefix ensures that the method won't interfere with other names in the tree, especially in multiple-inheritance scenarios\n",
    "\n",
    "Pseudoprivate names also prevent subclasses from accidentally redefining the internal method's names"
   ]
  },
  {
   "cell_type": "code",
   "execution_count": 6,
   "id": "96f4add7",
   "metadata": {},
   "outputs": [],
   "source": [
    "class Super:\n",
    "    def method(self): # A real application method\n",
    "        pass\n",
    "class Tool:\n",
    "    def _method(self): # becomes _Tool_method\n",
    "        pass\n",
    "    def other(self): # uses internal method\n",
    "        self._method()\n",
    "class Subl(Tool,Super):\n",
    "    def actions(self):\n",
    "        self.method()\n",
    "class Sub2(Tool):\n",
    "    def __init__(self):\n",
    "        self.method = 99"
   ]
  },
  {
   "cell_type": "code",
   "execution_count": null,
   "id": "374cbfdd",
   "metadata": {},
   "outputs": [],
   "source": []
  }
 ],
 "metadata": {
  "kernelspec": {
   "display_name": "Python 3 (ipykernel)",
   "language": "python",
   "name": "python3"
  },
  "language_info": {
   "codemirror_mode": {
    "name": "ipython",
    "version": 3
   },
   "file_extension": ".py",
   "mimetype": "text/x-python",
   "name": "python",
   "nbconvert_exporter": "python",
   "pygments_lexer": "ipython3",
   "version": "3.9.7"
  }
 },
 "nbformat": 4,
 "nbformat_minor": 5
}
