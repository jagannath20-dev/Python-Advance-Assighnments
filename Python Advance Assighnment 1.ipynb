{
 "cells": [
  {
   "cell_type": "markdown",
   "id": "2d75feb5",
   "metadata": {},
   "source": [
    "Q1. What is the purpose of Python's OOP?"
   ]
  },
  {
   "cell_type": "markdown",
   "id": "7e4527e9",
   "metadata": {},
   "source": [
    "Answer :\n",
    "    \n",
    "     Python is a multi-paradigm programming language.It supports different programming approaches.\n",
    "     It aims to implement real world entities like inheritance,polymorphism,encapsulation etc in the\n",
    "     programming.\n",
    "     The main concept of oop's is to bind the data and the functions that work on that together as a \n",
    "     single unit so that no other part of the data can access this data.\n",
    "     It comes up with the following advantages:\n",
    "     It helps to divide our over all program into different small segments and thus making it solving easy \n",
    "     with the use of objects.\n",
    "     Helps in easy maintenance and modification of existing program"
   ]
  },
  {
   "cell_type": "markdown",
   "id": "b1eca49a",
   "metadata": {},
   "source": [
    "Q2. Where does an inheritance search look for an attribute?"
   ]
  },
  {
   "cell_type": "markdown",
   "id": "afe2b811",
   "metadata": {},
   "source": [
    "Answer :\n",
    "        \n",
    "        Ans: Python searches for an attribute in an upward tree of attributes. it first searches for the \n",
    "        attribute in its instance and then looks in the class it is generated from, to all super classes \n",
    "        listed in its  class header."
   ]
  },
  {
   "cell_type": "markdown",
   "id": "3e775a32",
   "metadata": {},
   "source": [
    "Q3. How do you distinguish between a class object and an instance object?"
   ]
  },
  {
   "cell_type": "markdown",
   "id": "3fe9f064",
   "metadata": {},
   "source": [
    "Answer  :\n",
    "\n",
    "Class:\n",
    "\n",
    "         A Class object is used as a template for declaring and creating  the objects.\n",
    "         When a class is created no memory is allocated to store.\n",
    "         The class has to be declared only once.\n",
    "         A Class cannot be manipulated as they are not available in the memory.\n",
    "         \n",
    " Instance :\n",
    "           \n",
    "           An Object is an instance of class.\n",
    "           Objects are allocated memory space whenever they are created.\n",
    "           An Object is created many time whenever it requires.\n",
    "           Objects can be manipulated"
   ]
  },
  {
   "cell_type": "markdown",
   "id": "52047cad",
   "metadata": {},
   "source": [
    "Q4. What makes the first argument in a class’s method function special?\n"
   ]
  },
  {
   "cell_type": "markdown",
   "id": "782df34c",
   "metadata": {},
   "source": [
    "Answer  :\n",
    "    \n",
    "       Instance Methods (object level methods)\n",
    "       Class Methods (class level methods)\n",
    "       Static Methods (general utility methods)\n",
    "       self is the first argument for instance methods. which refers to the object itself\n",
    "       class is the first argument for class methods which refers to the class itself\n"
   ]
  },
  {
   "cell_type": "markdown",
   "id": "35952a2c",
   "metadata": {},
   "source": [
    "Q5. What is the purpose of the __init__ method?"
   ]
  },
  {
   "cell_type": "markdown",
   "id": "27c4ea00",
   "metadata": {},
   "source": [
    "Answer  :\n",
    "    \n",
    "         The __init__ method is a constructor in python. Constructors are used to initialise the object state.\n",
    "         The task of constructors is to initialise to the data members of the class when an object of class \n",
    "         is created.\n",
    "         Constructors also contains collection of statements that are executed at the time of object creation."
   ]
  },
  {
   "cell_type": "markdown",
   "id": "fae2f856",
   "metadata": {},
   "source": [
    "Q6. What is the process for creating a class instance?"
   ]
  },
  {
   "cell_type": "markdown",
   "id": "fc9baa43",
   "metadata": {},
   "source": [
    "Answer  :\n",
    "    \n",
    "       Call Classname() to create a class instance of the class claaname.\n",
    "       To pass parameters to the class instance,the class must have an __init__ method."
   ]
  },
  {
   "cell_type": "markdown",
   "id": "385e6197",
   "metadata": {},
   "source": [
    "Q7. What is the process for creating a class?"
   ]
  },
  {
   "cell_type": "markdown",
   "id": "50979a0e",
   "metadata": {},
   "source": [
    "Answer  :\n",
    "    \n",
    "       class keyword is used to created a class in python. The syntax to create a class in python is \n",
    "       class  <classname>:\n"
   ]
  },
  {
   "cell_type": "markdown",
   "id": "5f0a460e",
   "metadata": {},
   "source": [
    "Q8. How would you define the superclasses of a class?"
   ]
  },
  {
   "cell_type": "markdown",
   "id": "8315f6b8",
   "metadata": {},
   "source": [
    "Answer  :\n",
    "    \n",
    "     The class from which a class inherits is called the parent or superclass. A class which inherits from\n",
    "     a superclass is called a subclass, also called heir class or child class. Superclasses are sometimes \n",
    "     called ancestors as well. There exists a hierarchical relationship between classes."
   ]
  },
  {
   "cell_type": "code",
   "execution_count": null,
   "id": "40dc8680",
   "metadata": {},
   "outputs": [],
   "source": []
  }
 ],
 "metadata": {
  "kernelspec": {
   "display_name": "Python 3 (ipykernel)",
   "language": "python",
   "name": "python3"
  },
  "language_info": {
   "codemirror_mode": {
    "name": "ipython",
    "version": 3
   },
   "file_extension": ".py",
   "mimetype": "text/x-python",
   "name": "python",
   "nbconvert_exporter": "python",
   "pygments_lexer": "ipython3",
   "version": "3.9.7"
  }
 },
 "nbformat": 4,
 "nbformat_minor": 5
}
